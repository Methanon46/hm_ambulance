{
 "cells": [
  {
   "cell_type": "markdown",
   "metadata": {},
   "source": [
    "救急データをくっつけてクリーンするだけ  \n",
    "outputに保存される  \n",
    "初回のみ、もしくは作業済みのnumpyファイルがないときのみ  "
   ]
  },
  {
   "cell_type": "code",
   "execution_count": 1,
   "metadata": {},
   "outputs": [],
   "source": [
    "import os\n",
    "import sys\n",
    "\n",
    "sys.path.append(os.path.join(os.path.abspath(''), '../src/'))\n",
    "import pandas as pd\n",
    "\n",
    "def clean_data(df):\n",
    "    # 次の列の種類をstringに変更する: '覚知日付(元号年月日)'\n",
    "    df = df.astype({'覚知日付(元号年月日)': 'string'})\n",
    "    df = df.astype({'覚知日付(元号)名': 'string'})\n",
    "    df = df.astype({'覚知日付(年)': 'string'})\n",
    "    df = df.astype({'覚知日付(月)': 'string'})\n",
    "    df = df.astype({'覚知日付(日)': 'string'})\n",
    "    df = df.astype({'覚知時刻(時)': 'string'})\n",
    "    df = df.astype({'覚知時刻(分)': 'string'})\n",
    "\n",
    "    df[\"datestr\"] = df[\"覚知日付(元号)名\"] + df[\"覚知日付(年)\"] +\"年\" + df[\"覚知日付(月)\"] +\"月\"+ df[\"覚知日付(日)\"]+\"日\" \\\n",
    "                    + \" \" + df[\"覚知時刻(時)\"] + \":\" + df[\"覚知時刻(分)\"]\n",
    "    df.drop(['覚知日付(元号年月日)','覚知日付(元号)名','覚知日付(年)',\n",
    "             '覚知日付(月)','覚知日付(日)','覚知時刻(時)','覚知時刻(分)'],axis=1,inplace=True)\n",
    "    import jp_datetime\n",
    "    df[\"datetime\"] = df[\"datestr\"].apply(lambda x: \n",
    "                                         jp_datetime.parse_date(x,'%g%e年%m月%d日 %H:%M')\n",
    "                                         )\n",
    "    df.drop(['datestr'],axis=1,inplace=True)\n",
    "    df = df.reindex(['datetime','出場隊名', '事故種別(基本)名', '覚知→現着(所要時間)', '覚知→病着(所要時間)', '年齢(歳)', '年齢区分名',\n",
    "       '性別名', '傷病程度名', '傷病名', '傷病名大分類(国)名', '傷病名中分類(国)名', '傷病名小分類(国)名',\n",
    "       '収容機関名', '行政区別区分名'], axis=1)\n",
    "    \n",
    "\n",
    "    # 病院に実際に来る場合を対象にしたいので、不搬送を除去\n",
    "    df = df[df['収容機関名'] != \"不搬送\"]\n",
    "\n",
    "    # 列を削除: '傷病名大分類(国)名'\n",
    "    df = df.drop(columns=['傷病名大分類(国)名'])\n",
    "    df = df.drop(columns=['傷病名中分類(国)名'])\n",
    "    df = df.drop(columns=['傷病名小分類(国)名'])\n",
    "\n",
    "    # count用に列を追加\n",
    "    df[\"count\"] = 1\n",
    "\n",
    "    # 列で並べ替えます: 'datetime' (昇順)\n",
    "    df = df.sort_values(['datetime'], ignore_index=True)\n",
    "    \n",
    "    return df\n",
    "\n",
    "# excel形式のデータ読み込み\n",
    "df = pd.concat(\n",
    "    [pd.read_excel(r'../input/01_令和元年.xlsx'),\n",
    "    pd.read_excel(r\"../input/02_令和２年.xlsx\"),\n",
    "    pd.read_excel(r\"../input/03_令和３年.xlsx\"),\n",
    "    pd.read_excel(r\"../input/04_令和４年.xlsx\"),\n",
    "    pd.read_excel(r\"../input/05_令和５年.xlsx\")]\n",
    ")\n",
    "df_clean = clean_data(df.copy())\n",
    "df_clean.head(3)\n",
    "# df_clean.傷病名.to_csv(\"../output/傷病名一覧.csv\",index=None)\n",
    "# 保存\n",
    "df_clean.to_pickle('../output/df_clean.pkl.gz', compression='gzip') # 圧縮有り"
   ]
  }
 ],
 "metadata": {
  "kernelspec": {
   "display_name": ".venv",
   "language": "python",
   "name": "python3"
  },
  "language_info": {
   "codemirror_mode": {
    "name": "ipython",
    "version": 3
   },
   "file_extension": ".py",
   "mimetype": "text/x-python",
   "name": "python",
   "nbconvert_exporter": "python",
   "pygments_lexer": "ipython3",
   "version": "3.12.8"
  }
 },
 "nbformat": 4,
 "nbformat_minor": 2
}
