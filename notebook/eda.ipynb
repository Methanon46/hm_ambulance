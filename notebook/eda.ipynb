{
 "cells": [
  {
   "cell_type": "code",
   "execution_count": 1,
   "metadata": {},
   "outputs": [
    {
     "data": {
      "text/html": [
       "<div>\n",
       "<style scoped>\n",
       "    .dataframe tbody tr th:only-of-type {\n",
       "        vertical-align: middle;\n",
       "    }\n",
       "\n",
       "    .dataframe tbody tr th {\n",
       "        vertical-align: top;\n",
       "    }\n",
       "\n",
       "    .dataframe thead th {\n",
       "        text-align: right;\n",
       "    }\n",
       "</style>\n",
       "<table border=\"1\" class=\"dataframe\">\n",
       "  <thead>\n",
       "    <tr style=\"text-align: right;\">\n",
       "      <th></th>\n",
       "      <th>出場隊名</th>\n",
       "      <th>事故種別(基本)名</th>\n",
       "      <th>覚知→現着(所要時間)</th>\n",
       "      <th>覚知→病着(所要時間)</th>\n",
       "      <th>年齢(歳)</th>\n",
       "      <th>年齢区分名</th>\n",
       "      <th>性別名</th>\n",
       "      <th>傷病程度名</th>\n",
       "      <th>傷病名</th>\n",
       "      <th>傷病名大分類(国)名</th>\n",
       "      <th>傷病名中分類(国)名</th>\n",
       "      <th>傷病名小分類(国)名</th>\n",
       "      <th>収容機関名</th>\n",
       "      <th>行政区別区分名</th>\n",
       "      <th>datestr</th>\n",
       "      <th>datetime</th>\n",
       "    </tr>\n",
       "  </thead>\n",
       "  <tbody>\n",
       "    <tr>\n",
       "      <th>0</th>\n",
       "      <td>中救急隊</td>\n",
       "      <td>急病</td>\n",
       "      <td>10</td>\n",
       "      <td>24.0</td>\n",
       "      <td>94.0</td>\n",
       "      <td>高齢者</td>\n",
       "      <td>男</td>\n",
       "      <td>軽症</td>\n",
       "      <td>失神</td>\n",
       "      <td>NaN</td>\n",
       "      <td>NaN</td>\n",
       "      <td>NaN</td>\n",
       "      <td>遠州病院</td>\n",
       "      <td>中区</td>\n",
       "      <td>平成31年1月1日 9:19</td>\n",
       "      <td>2019-01-01 09:19:00</td>\n",
       "    </tr>\n",
       "    <tr>\n",
       "      <th>1</th>\n",
       "      <td>中救急隊</td>\n",
       "      <td>急病</td>\n",
       "      <td>5</td>\n",
       "      <td>30.0</td>\n",
       "      <td>62.0</td>\n",
       "      <td>成人</td>\n",
       "      <td>男</td>\n",
       "      <td>軽症</td>\n",
       "      <td>腹痛</td>\n",
       "      <td>NaN</td>\n",
       "      <td>NaN</td>\n",
       "      <td>NaN</td>\n",
       "      <td>浜松医大病院</td>\n",
       "      <td>中区</td>\n",
       "      <td>平成31年1月1日 10:18</td>\n",
       "      <td>2019-01-01 10:18:00</td>\n",
       "    </tr>\n",
       "    <tr>\n",
       "      <th>2</th>\n",
       "      <td>中救急隊</td>\n",
       "      <td>急病</td>\n",
       "      <td>8</td>\n",
       "      <td>24.0</td>\n",
       "      <td>88.0</td>\n",
       "      <td>高齢者</td>\n",
       "      <td>女</td>\n",
       "      <td>軽症</td>\n",
       "      <td>左背部痛</td>\n",
       "      <td>NaN</td>\n",
       "      <td>NaN</td>\n",
       "      <td>NaN</td>\n",
       "      <td>聖隷浜松病院</td>\n",
       "      <td>中区</td>\n",
       "      <td>平成31年1月1日 11:21</td>\n",
       "      <td>2019-01-01 11:21:00</td>\n",
       "    </tr>\n",
       "  </tbody>\n",
       "</table>\n",
       "</div>"
      ],
      "text/plain": [
       "   出場隊名 事故種別(基本)名  覚知→現着(所要時間)  覚知→病着(所要時間)  年齢(歳) 年齢区分名 性別名 傷病程度名   傷病名  \\\n",
       "0  中救急隊        急病           10         24.0   94.0   高齢者   男    軽症    失神   \n",
       "1  中救急隊        急病            5         30.0   62.0    成人   男    軽症    腹痛   \n",
       "2  中救急隊        急病            8         24.0   88.0   高齢者   女    軽症  左背部痛   \n",
       "\n",
       "   傷病名大分類(国)名  傷病名中分類(国)名  傷病名小分類(国)名   収容機関名 行政区別区分名          datestr  \\\n",
       "0         NaN         NaN         NaN    遠州病院      中区   平成31年1月1日 9:19   \n",
       "1         NaN         NaN         NaN  浜松医大病院      中区  平成31年1月1日 10:18   \n",
       "2         NaN         NaN         NaN  聖隷浜松病院      中区  平成31年1月1日 11:21   \n",
       "\n",
       "             datetime  \n",
       "0 2019-01-01 09:19:00  \n",
       "1 2019-01-01 10:18:00  \n",
       "2 2019-01-01 11:21:00  "
      ]
     },
     "execution_count": 1,
     "metadata": {},
     "output_type": "execute_result"
    }
   ],
   "source": [
    "import os\n",
    "import sys\n",
    "\n",
    "sys.path.append(os.path.join(os.path.abspath(''), '../src/'))\n",
    "import pandas as pd\n",
    "\n",
    "def clean_data(df):\n",
    "    # 次の列の種類をstringに変更する: '覚知日付(元号年月日)'\n",
    "    df = df.astype({'覚知日付(元号年月日)': 'string'})\n",
    "    df = df.astype({'覚知日付(元号)名': 'string'})\n",
    "    df = df.astype({'覚知日付(年)': 'string'})\n",
    "    df = df.astype({'覚知日付(月)': 'string'})\n",
    "    df = df.astype({'覚知日付(日)': 'string'})\n",
    "    df = df.astype({'覚知時刻(時)': 'string'})\n",
    "    df = df.astype({'覚知時刻(分)': 'string'})\n",
    "\n",
    "    df[\"datestr\"] = df[\"覚知日付(元号)名\"] + df[\"覚知日付(年)\"] +\"年\" + df[\"覚知日付(月)\"] +\"月\"+ df[\"覚知日付(日)\"]+\"日\" \\\n",
    "                    + \" \" + df[\"覚知時刻(時)\"] + \":\" + df[\"覚知時刻(分)\"]\n",
    "    df.drop(['覚知日付(元号年月日)','覚知日付(元号)名','覚知日付(年)',\n",
    "             '覚知日付(月)','覚知日付(日)','覚知時刻(時)','覚知時刻(分)'],axis=1,inplace=True)\n",
    "    import jp_datetime\n",
    "    df[\"datetime\"] = df[\"datestr\"].apply(lambda x: \n",
    "                                         jp_datetime.parse_date(x,'%g%e年%m月%d日 %H:%M')\n",
    "                                         )\n",
    "    jp_datetime.parse_date(df[\"datestr\"][598],'%g%e年%m月%d日')\n",
    "\n",
    "    return df\n",
    "\n",
    "# excel形式のデータ読み込み\n",
    "df = pd.read_excel(r'/Users/yuki/other_proj/hm_ambulance/input/01_令和元年.xlsx')\n",
    "\n",
    "df_clean = clean_data(df.copy())\n",
    "df_clean.head(3)"
   ]
  },
  {
   "cell_type": "code",
   "execution_count": 19,
   "metadata": {},
   "outputs": [
    {
     "data": {
      "text/plain": [
       "datetime.datetime(2019, 1, 27, 6, 45)"
      ]
     },
     "execution_count": 19,
     "metadata": {},
     "output_type": "execute_result"
    }
   ],
   "source": [
    "import jp_datetime\n",
    "jp_datetime.parse_date(df_clean[\"datestr\"][598],'%g%e年%m月%d日 %H:%M')"
   ]
  },
  {
   "cell_type": "code",
   "execution_count": null,
   "metadata": {},
   "outputs": [],
   "source": [
    "def transform(datastr: str):\n",
    "    "
   ]
  },
  {
   "cell_type": "code",
   "execution_count": null,
   "metadata": {},
   "outputs": [],
   "source": [
    "df_clean[\"覚知日付(元号年月日)\"]"
   ]
  }
 ],
 "metadata": {
  "kernelspec": {
   "display_name": ".venv",
   "language": "python",
   "name": "python3"
  },
  "language_info": {
   "codemirror_mode": {
    "name": "ipython",
    "version": 3
   },
   "file_extension": ".py",
   "mimetype": "text/x-python",
   "name": "python",
   "nbconvert_exporter": "python",
   "pygments_lexer": "ipython3",
   "version": "3.12.8"
  }
 },
 "nbformat": 4,
 "nbformat_minor": 2
}
