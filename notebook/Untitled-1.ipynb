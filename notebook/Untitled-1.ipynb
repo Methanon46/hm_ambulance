{
 "cells": [
  {
   "cell_type": "code",
   "execution_count": 6,
   "metadata": {},
   "outputs": [
    {
     "data": {
      "text/html": [
       "<div>\n",
       "<style scoped>\n",
       "    .dataframe tbody tr th:only-of-type {\n",
       "        vertical-align: middle;\n",
       "    }\n",
       "\n",
       "    .dataframe tbody tr th {\n",
       "        vertical-align: top;\n",
       "    }\n",
       "\n",
       "    .dataframe thead th {\n",
       "        text-align: right;\n",
       "    }\n",
       "</style>\n",
       "<table border=\"1\" class=\"dataframe\">\n",
       "  <thead>\n",
       "    <tr style=\"text-align: right;\">\n",
       "      <th></th>\n",
       "      <th>出場隊名</th>\n",
       "      <th>覚知日付(元号年月日)</th>\n",
       "      <th>覚知日付(元号)名</th>\n",
       "      <th>覚知日付(年)</th>\n",
       "      <th>覚知日付(月)</th>\n",
       "      <th>覚知日付(日)</th>\n",
       "      <th>事故種別(基本)名</th>\n",
       "      <th>覚知時刻(時)</th>\n",
       "      <th>覚知時刻(分)</th>\n",
       "      <th>覚知→現着(所要時間)</th>\n",
       "      <th>...</th>\n",
       "      <th>年齢区分名</th>\n",
       "      <th>性別名</th>\n",
       "      <th>傷病程度名</th>\n",
       "      <th>傷病名</th>\n",
       "      <th>傷病名大分類(国)名</th>\n",
       "      <th>傷病名中分類(国)名</th>\n",
       "      <th>傷病名小分類(国)名</th>\n",
       "      <th>収容機関名</th>\n",
       "      <th>行政区別区分名</th>\n",
       "      <th>datestr</th>\n",
       "    </tr>\n",
       "  </thead>\n",
       "  <tbody>\n",
       "    <tr>\n",
       "      <th>0</th>\n",
       "      <td>中救急隊</td>\n",
       "      <td>4310101</td>\n",
       "      <td>平成</td>\n",
       "      <td>31</td>\n",
       "      <td>1</td>\n",
       "      <td>1</td>\n",
       "      <td>急病</td>\n",
       "      <td>9</td>\n",
       "      <td>19</td>\n",
       "      <td>10</td>\n",
       "      <td>...</td>\n",
       "      <td>高齢者</td>\n",
       "      <td>男</td>\n",
       "      <td>軽症</td>\n",
       "      <td>失神</td>\n",
       "      <td>NaN</td>\n",
       "      <td>NaN</td>\n",
       "      <td>NaN</td>\n",
       "      <td>遠州病院</td>\n",
       "      <td>中区</td>\n",
       "      <td>平成31年1月1日</td>\n",
       "    </tr>\n",
       "    <tr>\n",
       "      <th>1</th>\n",
       "      <td>中救急隊</td>\n",
       "      <td>4310101</td>\n",
       "      <td>平成</td>\n",
       "      <td>31</td>\n",
       "      <td>1</td>\n",
       "      <td>1</td>\n",
       "      <td>急病</td>\n",
       "      <td>10</td>\n",
       "      <td>18</td>\n",
       "      <td>5</td>\n",
       "      <td>...</td>\n",
       "      <td>成人</td>\n",
       "      <td>男</td>\n",
       "      <td>軽症</td>\n",
       "      <td>腹痛</td>\n",
       "      <td>NaN</td>\n",
       "      <td>NaN</td>\n",
       "      <td>NaN</td>\n",
       "      <td>浜松医大病院</td>\n",
       "      <td>中区</td>\n",
       "      <td>平成31年1月1日</td>\n",
       "    </tr>\n",
       "    <tr>\n",
       "      <th>2</th>\n",
       "      <td>中救急隊</td>\n",
       "      <td>4310101</td>\n",
       "      <td>平成</td>\n",
       "      <td>31</td>\n",
       "      <td>1</td>\n",
       "      <td>1</td>\n",
       "      <td>急病</td>\n",
       "      <td>11</td>\n",
       "      <td>21</td>\n",
       "      <td>8</td>\n",
       "      <td>...</td>\n",
       "      <td>高齢者</td>\n",
       "      <td>女</td>\n",
       "      <td>軽症</td>\n",
       "      <td>左背部痛</td>\n",
       "      <td>NaN</td>\n",
       "      <td>NaN</td>\n",
       "      <td>NaN</td>\n",
       "      <td>聖隷浜松病院</td>\n",
       "      <td>中区</td>\n",
       "      <td>平成31年1月1日</td>\n",
       "    </tr>\n",
       "  </tbody>\n",
       "</table>\n",
       "<p>3 rows × 22 columns</p>\n",
       "</div>"
      ],
      "text/plain": [
       "   出場隊名 覚知日付(元号年月日) 覚知日付(元号)名 覚知日付(年) 覚知日付(月) 覚知日付(日) 事故種別(基本)名  覚知時刻(時)  \\\n",
       "0  中救急隊     4310101        平成      31       1       1        急病        9   \n",
       "1  中救急隊     4310101        平成      31       1       1        急病       10   \n",
       "2  中救急隊     4310101        平成      31       1       1        急病       11   \n",
       "\n",
       "   覚知時刻(分)  覚知→現着(所要時間)  ...  年齢区分名  性別名 傷病程度名   傷病名 傷病名大分類(国)名 傷病名中分類(国)名  \\\n",
       "0       19           10  ...    高齢者    男    軽症    失神        NaN        NaN   \n",
       "1       18            5  ...     成人    男    軽症    腹痛        NaN        NaN   \n",
       "2       21            8  ...    高齢者    女    軽症  左背部痛        NaN        NaN   \n",
       "\n",
       "   傷病名小分類(国)名   収容機関名  行政区別区分名    datestr  \n",
       "0         NaN    遠州病院       中区  平成31年1月1日  \n",
       "1         NaN  浜松医大病院       中区  平成31年1月1日  \n",
       "2         NaN  聖隷浜松病院       中区  平成31年1月1日  \n",
       "\n",
       "[3 rows x 22 columns]"
      ]
     },
     "execution_count": 6,
     "metadata": {},
     "output_type": "execute_result"
    }
   ],
   "source": [
    "import os\n",
    "import sys\n",
    "\n",
    "sys.path.append(os.path.join(os.path.abspath(''), '../src/'))\n",
    "import pandas as pd\n",
    "from datetimejp import JDatetime\n",
    "def clean_data(df):\n",
    "    # 次の列の種類をstringに変更する: '覚知日付(元号年月日)'\n",
    "    df = df.astype({'覚知日付(元号年月日)': 'string'})\n",
    "    df = df.astype({'覚知日付(元号)名': 'string'})\n",
    "    df = df.astype({'覚知日付(年)': 'string'})\n",
    "    df = df.astype({'覚知日付(月)': 'string'})\n",
    "    df = df.astype({'覚知日付(日)': 'string'})\n",
    "\n",
    "    df[\"datestr\"] = df[\"覚知日付(元号)名\"] + df[\"覚知日付(年)\"] +\"年\" + df[\"覚知日付(月)\"] +\"月\"+ df[\"覚知日付(日)\"]+\"日\"\n",
    "    import jp_datetime\n",
    "    jp_datetime.parse_date(df_clean[\"datestr\"][598],'%g%e年%m月%d日')\n",
    "\n",
    "    return df\n",
    "\n",
    "# URI から変数 'df' が読み込まれました: /Users/yuki/other_proj/hm_ambulance/input/01_令和元年.xlsx\n",
    "df = pd.read_excel(r'/Users/yuki/other_proj/hm_ambulance/input/01_令和元年.xlsx')\n",
    "\n",
    "df_clean = clean_data(df.copy())\n",
    "df_clean.head(3)"
   ]
  },
  {
   "cell_type": "code",
   "execution_count": 11,
   "metadata": {},
   "outputs": [
    {
     "name": "stdout",
     "output_type": "stream",
     "text": [
      "<class 'datetimejp.jdatetime.JDatetime'>\n"
     ]
    },
    {
     "data": {
      "text/plain": [
       "'2019年01月27日'"
      ]
     },
     "execution_count": 11,
     "metadata": {},
     "output_type": "execute_result"
    }
   ],
   "source": [
    "# pip install datetimejp\n",
    "from datetimejp import JDatetime\n",
    "jd = JDatetime.strptime(df_clean[\"datestr\"][598], '%g%e年%m月%d日')\n",
    "\n",
    "result = jd.strftime('%Y年%m月%d日')\n",
    "print(type(jd))\n",
    "\n",
    "import jp_datetime\n",
    "jp_datetime.parse_date(df_clean[\"datestr\"][598],'%g%e年%m月%d日')"
   ]
  },
  {
   "cell_type": "code",
   "execution_count": null,
   "metadata": {},
   "outputs": [],
   "source": [
    "def transform(datastr: str):\n",
    "    "
   ]
  },
  {
   "cell_type": "code",
   "execution_count": null,
   "metadata": {},
   "outputs": [],
   "source": [
    "df_clean[\"覚知日付(元号年月日)\"]"
   ]
  }
 ],
 "metadata": {
  "kernelspec": {
   "display_name": "jupyter_ml",
   "language": "python",
   "name": "python3"
  },
  "language_info": {
   "codemirror_mode": {
    "name": "ipython",
    "version": 3
   },
   "file_extension": ".py",
   "mimetype": "text/x-python",
   "name": "python",
   "nbconvert_exporter": "python",
   "pygments_lexer": "ipython3",
   "version": "3.11.9"
  }
 },
 "nbformat": 4,
 "nbformat_minor": 2
}
