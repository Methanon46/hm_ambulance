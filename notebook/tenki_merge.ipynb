{
 "cells": [
  {
   "cell_type": "code",
   "execution_count": null,
   "metadata": {},
   "outputs": [],
   "source": [
    "import glob\n",
    "import os\n",
    "from pathlib import Path\n",
    "import pandas as pd\n",
    "\n",
    "def data_cleaning(path):\n",
    "    df = pd.read_csv(path,encoding=\"cp932\",header=2)\n",
    "    df.drop(columns=[\"気温(℃).1\",\"気温(℃).2\",\n",
    "                    \"降水量(mm).2\",\"降水量(mm).3\",\"降雪(cm).2\",\"降雪(cm).3\",\"積雪(cm).2\",\"積雪(cm).3\",\"日照時間(時間).2\",\"日照時間(時間).3\",\n",
    "                    \"風速(m/s).1\",\"風速(m/s).2\",\"風速(m/s).3\",\"風速(m/s).4\",\n",
    "                    \"露点温度(℃)\",\"露点温度(℃).1\",\"露点温度(℃).2\",\n",
    "                    \"蒸気圧(hPa)\",\"蒸気圧(hPa).1\",\"蒸気圧(hPa).2\",\n",
    "                    \"天気.1\",\"天気.2\",\"雲量(10分比)\",\"雲量(10分比).1\",\"雲量(10分比).2\",\"相対湿度(％).1\",\"相対湿度(％).2\",\n",
    "                    \"海面気圧(hPa)\",\"海面気圧(hPa).1\",\"海面気圧(hPa).2\",\n",
    "                    \"現地気圧(hPa).1\",\"現地気圧(hPa).2\",\"日射量(MJ/㎡)\",\"日射量(MJ/㎡).1\",\"日射量(MJ/㎡).2\"\n",
    "                    ],inplace=True)\n",
    "    df.rename(columns={\"年月日時\":\"datetime\",\"降水量(mm).1\":\"降水なし\",\"降雪(cm).1\":\"降雪なし\",\"積雪(cm).1\":\"積雪なし\",\"日照時間(時間).1\":\"日照なし\"},inplace=True)\n",
    "    df.drop(index=[0,1],inplace=True)\n",
    "    df[\"datetime\"] = pd.to_datetime(df[\"datetime\"])\n",
    "\n",
    "    return df\n",
    "\n",
    "csv_list = glob.glob(str(Path.cwd().parent / \"input\" / \"weather\") + \"/*.csv\")\n",
    "# リスト内包表記で一気にcleaningを掛け、結合、その後datetimeのダブりを削除\n",
    "df_tenki = pd.concat([data_cleaning(l) for l in csv_list]).drop_duplicates(subset='datetime')\n",
    "# datetimeを行に指定してsort\n",
    "df_tenki.set_index(\"datetime\",inplace=True)\n",
    "df_tenki.sort_index(inplace=True)\n",
    "df_tenki.to_pickle('../output/df_tenki.pkl.gz', compression='gzip') # 圧縮有り"
   ]
  },
  {
   "cell_type": "code",
   "execution_count": null,
   "metadata": {},
   "outputs": [
    {
     "data": {
      "text/plain": [
       "Index([2019-01-01, 2019-01-02, 2019-01-03, 2019-01-04, 2019-01-05, 2019-01-06,\n",
       "       2019-01-07, 2019-01-08, 2019-01-09, 2019-01-10,\n",
       "       ...\n",
       "       2023-12-23, 2023-12-24, 2023-12-25, 2023-12-26, 2023-12-27, 2023-12-28,\n",
       "       2023-12-29, 2023-12-30, 2023-12-31, 2024-01-01],\n",
       "      dtype='object', name='date', length=1827)"
      ]
     },
     "execution_count": 123,
     "metadata": {},
     "output_type": "execute_result"
    }
   ],
   "source": [
    "# datetime列から日付部分だけを抽出して新しい列を作成\n",
    "df_tenki['date'] = df_tenki.index.date\n",
    "\n",
    "# 日付ごとにグループ化して気温の統計を計算\n",
    "result_tenki = df_tenki.groupby('date')['気温(℃)'].agg(['mean', 'max', 'min'])\n",
    "# 列名を日本語に変更\n",
    "result_tenki.columns = ['平均気温', '最高気温', '最低気温']"
   ]
  },
  {
   "cell_type": "code",
   "execution_count": 93,
   "metadata": {},
   "outputs": [
    {
     "data": {
      "text/plain": [
       "Index(['気温(℃)', '降水量(mm)', '降水なし', '降雪(cm)', '降雪なし', '積雪(cm)', '積雪なし',\n",
       "       '日照時間(時間)', '日照なし', '風速(m/s)', '相対湿度(％)', '天気', '現地気圧(hPa)', 'date'],\n",
       "      dtype='object')"
      ]
     },
     "execution_count": 93,
     "metadata": {},
     "output_type": "execute_result"
    }
   ],
   "source": [
    "df.columns"
   ]
  },
  {
   "cell_type": "code",
   "execution_count": 110,
   "metadata": {},
   "outputs": [
    {
     "data": {
      "text/plain": [
       "datetime\n",
       "2019-01-01 01:00:00    3.6\n",
       "2019-01-01 02:00:00    6.6\n",
       "2019-01-01 03:00:00    2.8\n",
       "2019-01-01 04:00:00    4.5\n",
       "2019-01-01 05:00:00    4.2\n",
       "                      ... \n",
       "2023-12-31 20:00:00    6.8\n",
       "2023-12-31 21:00:00    5.9\n",
       "2023-12-31 22:00:00    6.9\n",
       "2023-12-31 23:00:00    6.2\n",
       "2024-01-01 00:00:00    6.4\n",
       "Name: 風速(m/s), Length: 43824, dtype: float64"
      ]
     },
     "execution_count": 110,
     "metadata": {},
     "output_type": "execute_result"
    }
   ],
   "source": [
    "df[\"風速(m/s)\"]"
   ]
  },
  {
   "cell_type": "code",
   "execution_count": 109,
   "metadata": {},
   "outputs": [
    {
     "data": {
      "text/plain": [
       "<Axes: >"
      ]
     },
     "execution_count": 109,
     "metadata": {},
     "output_type": "execute_result"
    },
    {
     "data": {
      "image/png": "[encoded data removed]",
      "text/plain": [
       "<Figure size 640x480 with 1 Axes>"
      ]
     },
     "metadata": {},
     "output_type": "display_data"
    }
   ],
   "source": [
    "df[\"風速(m/s)\"].hist(bins=20)"
   ]
  },
  {
   "cell_type": "code",
   "execution_count": 92,
   "metadata": {},
   "outputs": [
    {
     "data": {
      "application/vnd.microsoft.datawrangler.viewer.v0+json": {
       "columns": [
        {
         "name": "date",
         "rawType": "object",
         "type": "unknown"
        },
        {
         "name": "平均気温",
         "rawType": "float64",
         "type": "float"
        },
        {
         "name": "最高気温",
         "rawType": "float64",
         "type": "float"
        },
        {
         "name": "最低気温",
         "rawType": "float64",
         "type": "float"
        }
       ],
       "conversionMethod": "pd.DataFrame",
       "ref": "98b0dcd9-2f5e-4c6f-ac5b-397816d3394d",
       "rows": [
        [
         "2019-01-01",
         "6.2956521739130435",
         "11.2",
         "2.6"
        ],
        [
         "2019-01-02",
         "7.158333333333334",
         "11.1",
         "4.3"
        ],
        [
         "2019-01-03",
         "5.9750000000000005",
         "10.4",
         "2.3"
        ],
        [
         "2019-01-04",
         "6.5125",
         "11.5",
         "2.4"
        ],
        [
         "2019-01-05",
         "9.429166666666667",
         "12.6",
         "7.2"
        ],
        [
         "2019-01-06",
         "6.620833333333334",
         "8.8",
         "4.1"
        ],
        [
         "2019-01-07",
         "6.304166666666667",
         "9.8",
         "3.2"
        ],
        [
         "2019-01-08",
         "7.058333333333334",
         "11.1",
         "2.4"
        ],
        [
         "2019-01-09",
         "5.7749999999999995",
         "7.9",
         "2.7"
        ],
        [
         "2019-01-10",
         "3.858333333333333",
         "7.2",
         "-1.1"
        ],
        [
         "2019-01-11",
         "8.283333333333333",
         "12.5",
         "5.0"
        ],
        [
         "2019-01-12",
         "7.620833333333334",
         "10.3",
         "4.9"
        ],
        [
         "2019-01-13",
         "6.991666666666667",
         "11.7",
         "2.5"
        ],
        [
         "2019-01-14",
         "6.741666666666667",
         "11.9",
         "2.6"
        ],
        [
         "2019-01-15",
         "7.445833333333333",
         "11.6",
         "4.6"
        ],
        [
         "2019-01-16",
         "7.625",
         "11.4",
         "5.4"
        ],
        [
         "2019-01-17",
         "6.6125",
         "10.3",
         "2.1"
        ],
        [
         "2019-01-18",
         "6.2625",
         "9.5",
         "4.0"
        ],
        [
         "2019-01-19",
         "6.808333333333334",
         "11.2",
         "2.8"
        ],
        [
         "2019-01-20",
         "8.345833333333333",
         "11.4",
         "5.8"
        ],
        [
         "2019-01-21",
         "6.220833333333334",
         "9.0",
         "2.8"
        ],
        [
         "2019-01-22",
         "6.816666666666666",
         "10.0",
         "4.5"
        ],
        [
         "2019-01-23",
         "7.045833333333333",
         "11.6",
         "1.6"
        ],
        [
         "2019-01-24",
         "6.7625",
         "9.6",
         "4.1"
        ],
        [
         "2019-01-25",
         "5.795833333333333",
         "9.8",
         "2.3"
        ],
        [
         "2019-01-26",
         "5.1375",
         "8.9",
         "1.9"
        ],
        [
         "2019-01-27",
         "4.704166666666667",
         "9.5",
         "-0.1"
        ],
        [
         "2019-01-28",
         "6.079166666666667",
         "9.3",
         "1.7"
        ],
        [
         "2019-01-29",
         "5.791666666666667",
         "10.2",
         "3.0"
        ],
        [
         "2019-01-30",
         "6.0",
         "12.0",
         "0.0"
        ],
        [
         "2019-01-31",
         "6.779166666666666",
         "9.4",
         "5.4"
        ],
        [
         "2019-02-01",
         "5.075",
         "8.7",
         "2.4"
        ],
        [
         "2019-02-02",
         "7.0249999999999995",
         "11.5",
         "2.7"
        ],
        [
         "2019-02-03",
         "8.7875",
         "13.8",
         "4.2"
        ],
        [
         "2019-02-04",
         "11.816666666666668",
         "15.7",
         "7.2"
        ],
        [
         "2019-02-05",
         "8.858333333333333",
         "13.2",
         "5.9"
        ],
        [
         "2019-02-06",
         "8.391666666666667",
         "11.6",
         "7.1"
        ],
        [
         "2019-02-07",
         "11.354166666666666",
         "16.0",
         "5.9"
        ],
        [
         "2019-02-08",
         "8.683333333333334",
         "11.5",
         "5.6"
        ],
        [
         "2019-02-09",
         "5.825",
         "7.8",
         "3.7"
        ],
        [
         "2019-02-10",
         "5.4875",
         "9.9",
         "2.9"
        ],
        [
         "2019-02-11",
         "6.779166666666666",
         "10.0",
         "4.0"
        ],
        [
         "2019-02-12",
         "6.954166666666667",
         "10.9",
         "3.2"
        ],
        [
         "2019-02-13",
         "7.325",
         "11.9",
         "4.8"
        ],
        [
         "2019-02-14",
         "5.6875",
         "8.1",
         "3.1"
        ],
        [
         "2019-02-15",
         "5.5125",
         "9.1",
         "1.9"
        ],
        [
         "2019-02-16",
         "9.145833333333334",
         "12.7",
         "6.6"
        ],
        [
         "2019-02-17",
         "7.229166666666667",
         "11.6",
         "4.7"
        ],
        [
         "2019-02-18",
         "7.7250000000000005",
         "13.6",
         "2.3"
        ],
        [
         "2019-02-19",
         "9.358333333333333",
         "11.5",
         "6.0"
        ]
       ],
       "shape": {
        "columns": 3,
        "rows": 1827
       }
      },
      "text/html": [
       "<div>\n",
       "<style scoped>\n",
       "    .dataframe tbody tr th:only-of-type {\n",
       "        vertical-align: middle;\n",
       "    }\n",
       "\n",
       "    .dataframe tbody tr th {\n",
       "        vertical-align: top;\n",
       "    }\n",
       "\n",
       "    .dataframe thead th {\n",
       "        text-align: right;\n",
       "    }\n",
       "</style>\n",
       "<table border=\"1\" class=\"dataframe\">\n",
       "  <thead>\n",
       "    <tr style=\"text-align: right;\">\n",
       "      <th></th>\n",
       "      <th>平均気温</th>\n",
       "      <th>最高気温</th>\n",
       "      <th>最低気温</th>\n",
       "    </tr>\n",
       "    <tr>\n",
       "      <th>date</th>\n",
       "      <th></th>\n",
       "      <th></th>\n",
       "      <th></th>\n",
       "    </tr>\n",
       "  </thead>\n",
       "  <tbody>\n",
       "    <tr>\n",
       "      <th>2019-01-01</th>\n",
       "      <td>6.295652</td>\n",
       "      <td>11.2</td>\n",
       "      <td>2.6</td>\n",
       "    </tr>\n",
       "    <tr>\n",
       "      <th>2019-01-02</th>\n",
       "      <td>7.158333</td>\n",
       "      <td>11.1</td>\n",
       "      <td>4.3</td>\n",
       "    </tr>\n",
       "    <tr>\n",
       "      <th>2019-01-03</th>\n",
       "      <td>5.975000</td>\n",
       "      <td>10.4</td>\n",
       "      <td>2.3</td>\n",
       "    </tr>\n",
       "    <tr>\n",
       "      <th>2019-01-04</th>\n",
       "      <td>6.512500</td>\n",
       "      <td>11.5</td>\n",
       "      <td>2.4</td>\n",
       "    </tr>\n",
       "    <tr>\n",
       "      <th>2019-01-05</th>\n",
       "      <td>9.429167</td>\n",
       "      <td>12.6</td>\n",
       "      <td>7.2</td>\n",
       "    </tr>\n",
       "    <tr>\n",
       "      <th>...</th>\n",
       "      <td>...</td>\n",
       "      <td>...</td>\n",
       "      <td>...</td>\n",
       "    </tr>\n",
       "    <tr>\n",
       "      <th>2023-12-28</th>\n",
       "      <td>7.950000</td>\n",
       "      <td>13.8</td>\n",
       "      <td>2.7</td>\n",
       "    </tr>\n",
       "    <tr>\n",
       "      <th>2023-12-29</th>\n",
       "      <td>9.554167</td>\n",
       "      <td>15.0</td>\n",
       "      <td>5.4</td>\n",
       "    </tr>\n",
       "    <tr>\n",
       "      <th>2023-12-30</th>\n",
       "      <td>9.045833</td>\n",
       "      <td>15.6</td>\n",
       "      <td>3.0</td>\n",
       "    </tr>\n",
       "    <tr>\n",
       "      <th>2023-12-31</th>\n",
       "      <td>11.762500</td>\n",
       "      <td>15.9</td>\n",
       "      <td>8.3</td>\n",
       "    </tr>\n",
       "    <tr>\n",
       "      <th>2024-01-01</th>\n",
       "      <td>10.200000</td>\n",
       "      <td>10.2</td>\n",
       "      <td>10.2</td>\n",
       "    </tr>\n",
       "  </tbody>\n",
       "</table>\n",
       "<p>1827 rows × 3 columns</p>\n",
       "</div>"
      ],
      "text/plain": [
       "                 平均気温  最高気温  最低気温\n",
       "date                             \n",
       "2019-01-01   6.295652  11.2   2.6\n",
       "2019-01-02   7.158333  11.1   4.3\n",
       "2019-01-03   5.975000  10.4   2.3\n",
       "2019-01-04   6.512500  11.5   2.4\n",
       "2019-01-05   9.429167  12.6   7.2\n",
       "...               ...   ...   ...\n",
       "2023-12-28   7.950000  13.8   2.7\n",
       "2023-12-29   9.554167  15.0   5.4\n",
       "2023-12-30   9.045833  15.6   3.0\n",
       "2023-12-31  11.762500  15.9   8.3\n",
       "2024-01-01  10.200000  10.2  10.2\n",
       "\n",
       "[1827 rows x 3 columns]"
      ]
     },
     "execution_count": 92,
     "metadata": {},
     "output_type": "execute_result"
    }
   ],
   "source": [
    "result"
   ]
  },
  {
   "cell_type": "code",
   "execution_count": 82,
   "metadata": {},
   "outputs": [],
   "source": [
    "df.head().to_clipboard()"
   ]
  },
  {
   "cell_type": "code",
   "execution_count": 77,
   "metadata": {},
   "outputs": [
    {
     "name": "stdout",
     "output_type": "stream",
     "text": [
      "                     気温(℃)  降水量(mm) 降水なし  降雪(cm) 降雪なし  積雪(cm) 積雪なし  日照時間(時間)  \\\n",
      "datetime                                                                       \n",
      "2019-01-01 01:00:00    3.5      0.0    1     NaN  NaN     NaN  NaN       0.0   \n",
      "2019-01-01 02:00:00    3.3      0.0    1     NaN  NaN     NaN  NaN       0.0   \n",
      "2019-01-01 03:00:00    2.6      0.0    1     NaN  NaN     NaN  NaN       0.0   \n",
      "2019-01-01 04:00:00    3.3      0.0    1     NaN  NaN     NaN  NaN       0.0   \n",
      "2019-01-01 05:00:00    3.0      0.0    1     NaN  NaN     NaN  NaN       0.0   \n",
      "\n",
      "                    日照なし  風速(m/s)  相対湿度(％)   天気  現地気圧(hPa)  \n",
      "datetime                                                    \n",
      "2019-01-01 01:00:00    1      3.6     45.0  2.0     1021.3  \n",
      "2019-01-01 02:00:00    1      6.6     47.0  2.0     1021.4  \n",
      "2019-01-01 03:00:00    1      2.8     51.0  2.0     1020.9  \n",
      "2019-01-01 04:00:00    1      4.5     48.0  2.0     1020.1  \n",
      "2019-01-01 05:00:00    1      4.2     50.0  2.0     1020.3  \n"
     ]
    }
   ],
   "source": [
    "print(df.head())"
   ]
  },
  {
   "cell_type": "code",
   "execution_count": 79,
   "metadata": {},
   "outputs": [
    {
     "name": "stdout",
     "output_type": "stream",
     "text": [
      "欠損チェック\n",
      "すべてのデータが揃っています。欠損はありません。\n",
      "保存開始\n",
      "\n",
      "月ごとの欠損率:\n",
      "2019-01: 期待=743時間, 実際=743時間, 欠損率=0.00%\n",
      "2019-02: 期待=672時間, 実際=672時間, 欠損率=0.00%\n",
      "2019-03: 期待=744時間, 実際=744時間, 欠損率=0.00%\n",
      "2019-04: 期待=720時間, 実際=720時間, 欠損率=0.00%\n",
      "2019-05: 期待=744時間, 実際=744時間, 欠損率=0.00%\n",
      "2019-06: 期待=720時間, 実際=720時間, 欠損率=0.00%\n",
      "2019-07: 期待=744時間, 実際=744時間, 欠損率=0.00%\n",
      "2019-08: 期待=744時間, 実際=744時間, 欠損率=0.00%\n",
      "2019-09: 期待=720時間, 実際=720時間, 欠損率=0.00%\n",
      "2019-10: 期待=744時間, 実際=744時間, 欠損率=0.00%\n",
      "2019-11: 期待=720時間, 実際=720時間, 欠損率=0.00%\n",
      "2019-12: 期待=744時間, 実際=744時間, 欠損率=0.00%\n",
      "2020-01: 期待=744時間, 実際=744時間, 欠損率=0.00%\n",
      "2020-02: 期待=696時間, 実際=696時間, 欠損率=0.00%\n",
      "2020-03: 期待=744時間, 実際=744時間, 欠損率=0.00%\n",
      "2020-04: 期待=720時間, 実際=720時間, 欠損率=0.00%\n",
      "2020-05: 期待=744時間, 実際=744時間, 欠損率=0.00%\n",
      "2020-06: 期待=720時間, 実際=720時間, 欠損率=0.00%\n",
      "2020-07: 期待=744時間, 実際=744時間, 欠損率=0.00%\n",
      "2020-08: 期待=744時間, 実際=744時間, 欠損率=0.00%\n",
      "2020-09: 期待=720時間, 実際=720時間, 欠損率=0.00%\n",
      "2020-10: 期待=744時間, 実際=744時間, 欠損率=0.00%\n",
      "2020-11: 期待=720時間, 実際=720時間, 欠損率=0.00%\n",
      "2020-12: 期待=744時間, 実際=744時間, 欠損率=0.00%\n",
      "2021-01: 期待=744時間, 実際=744時間, 欠損率=0.00%\n",
      "2021-02: 期待=672時間, 実際=672時間, 欠損率=0.00%\n",
      "2021-03: 期待=744時間, 実際=744時間, 欠損率=0.00%\n",
      "2021-04: 期待=720時間, 実際=720時間, 欠損率=0.00%\n",
      "2021-05: 期待=744時間, 実際=744時間, 欠損率=0.00%\n",
      "2021-06: 期待=720時間, 実際=720時間, 欠損率=0.00%\n",
      "2021-07: 期待=744時間, 実際=744時間, 欠損率=0.00%\n",
      "2021-08: 期待=744時間, 実際=744時間, 欠損率=0.00%\n",
      "2021-09: 期待=720時間, 実際=720時間, 欠損率=0.00%\n",
      "2021-10: 期待=744時間, 実際=744時間, 欠損率=0.00%\n",
      "2021-11: 期待=720時間, 実際=720時間, 欠損率=0.00%\n",
      "2021-12: 期待=744時間, 実際=744時間, 欠損率=0.00%\n",
      "2022-01: 期待=744時間, 実際=744時間, 欠損率=0.00%\n",
      "2022-02: 期待=672時間, 実際=672時間, 欠損率=0.00%\n",
      "2022-03: 期待=744時間, 実際=744時間, 欠損率=0.00%\n",
      "2022-04: 期待=720時間, 実際=720時間, 欠損率=0.00%\n",
      "2022-05: 期待=744時間, 実際=744時間, 欠損率=0.00%\n",
      "2022-06: 期待=720時間, 実際=720時間, 欠損率=0.00%\n",
      "2022-07: 期待=744時間, 実際=744時間, 欠損率=0.00%\n",
      "2022-08: 期待=744時間, 実際=744時間, 欠損率=0.00%\n",
      "2022-09: 期待=720時間, 実際=720時間, 欠損率=0.00%\n",
      "2022-10: 期待=744時間, 実際=744時間, 欠損率=0.00%\n",
      "2022-11: 期待=720時間, 実際=720時間, 欠損率=0.00%\n",
      "2022-12: 期待=744時間, 実際=744時間, 欠損率=0.00%\n",
      "2023-01: 期待=744時間, 実際=744時間, 欠損率=0.00%\n",
      "2023-02: 期待=672時間, 実際=672時間, 欠損率=0.00%\n",
      "2023-03: 期待=744時間, 実際=744時間, 欠損率=0.00%\n",
      "2023-04: 期待=720時間, 実際=720時間, 欠損率=0.00%\n",
      "2023-05: 期待=744時間, 実際=744時間, 欠損率=0.00%\n",
      "2023-06: 期待=720時間, 実際=720時間, 欠損率=0.00%\n",
      "2023-07: 期待=744時間, 実際=744時間, 欠損率=0.00%\n",
      "2023-08: 期待=744時間, 実際=744時間, 欠損率=0.00%\n",
      "2023-09: 期待=720時間, 実際=720時間, 欠損率=0.00%\n",
      "2023-10: 期待=744時間, 実際=744時間, 欠損率=0.00%\n",
      "2023-11: 期待=720時間, 実際=720時間, 欠損率=0.00%\n",
      "2023-12: 期待=744時間, 実際=744時間, 欠損率=0.00%\n",
      "2024-01: 期待=1時間, 実際=1時間, 欠損率=0.00%\n"
     ]
    },
    {
     "name": "stderr",
     "output_type": "stream",
     "text": [
      "/var/folders/ck/8bxh7p5d465fgrv1k4m4rfc40000gn/T/ipykernel_37153/3181086215.py:3: FutureWarning: 'H' is deprecated and will be removed in a future version, please use 'h' instead.\n",
      "  expected_dates = pd.date_range(\n",
      "/var/folders/ck/8bxh7p5d465fgrv1k4m4rfc40000gn/T/ipykernel_37153/3181086215.py:73: FutureWarning: 'H' is deprecated and will be removed in a future version, please use 'h' instead.\n",
      "  expected_hours = pd.date_range(start=max(month_start, expected_dates[0]),\n"
     ]
    }
   ],
   "source": [
    "print(\"欠損チェック\")\n",
    "# 確認したい期間の完全なDatetimeIndexを作成（1時間おき）\n",
    "expected_dates = pd.date_range(\n",
    "    start='2019-01-01 01:00:00',\n",
    "    end='2024-01-01 00:00:00',\n",
    "    freq='H'\n",
    ")\n",
    "expected_df = pd.DataFrame(index=expected_dates)\n",
    "expected_df.index.name = 'datetime'\n",
    "\n",
    "# 実際のデータフレームと期待されるDatetimeIndexの差分をチェック\n",
    "missing_dates = expected_df.index.difference(df.index)\n",
    "\n",
    "# 結果の表示\n",
    "if len(missing_dates) == 0:\n",
    "    print(\"すべてのデータが揃っています。欠損はありません。\")\n",
    "    print(\"保存開始\")\n",
    "    df.to_csv(\"../input/tenki_2019-2023.csv\")\n",
    "\n",
    "else:\n",
    "    print(f\"欠損している日時が {len(missing_dates)} 件あります。\")\n",
    "    \n",
    "    # 最初の10件だけ表示\n",
    "    if len(missing_dates) > 10:\n",
    "        print(\"最初の10件の欠損:\")\n",
    "        for i, date in enumerate(missing_dates[:10]):\n",
    "            print(f\"{i+1}: {date}\")\n",
    "        print(f\"... 他 {len(missing_dates) - 10} 件\")\n",
    "    else:\n",
    "        print(\"欠損している日時:\")\n",
    "        for i, date in enumerate(missing_dates):\n",
    "            print(f\"{i+1}: {date}\")\n",
    "    \n",
    "    # 連続した欠損の分析\n",
    "    print(\"\\n連続した欠損の分析:\")\n",
    "    if len(missing_dates) > 0:\n",
    "        # 連続した欠損期間を見つける\n",
    "        missing_dates_list = missing_dates.tolist()\n",
    "        gaps = []\n",
    "        gap_start = missing_dates_list[0]\n",
    "        \n",
    "        for i in range(1, len(missing_dates_list)):\n",
    "            if missing_dates_list[i] - missing_dates_list[i-1] != pd.Timedelta(hours=1):\n",
    "                gaps.append((gap_start, missing_dates_list[i-1]))\n",
    "                gap_start = missing_dates_list[i]\n",
    "        \n",
    "        # 最後のギャップを追加\n",
    "        gaps.append((gap_start, missing_dates_list[-1]))\n",
    "        \n",
    "        # 連続欠損の表示\n",
    "        for i, (start, end) in enumerate(gaps):\n",
    "            duration = (end - start).total_seconds() / 3600 + 1  # 時間単位\n",
    "            print(f\"連続欠損 {i+1}: {start} から {end} まで ({int(duration)}時間)\")\n",
    "            \n",
    "        # 最長の欠損期間\n",
    "        longest_gap = max(gaps, key=lambda x: (x[1] - x[0]).total_seconds())\n",
    "        duration = (longest_gap[1] - longest_gap[0]).total_seconds() / 3600 + 1  # 時間単位\n",
    "        print(f\"\\n最長の連続欠損: {longest_gap[0]} から {longest_gap[1]} まで ({int(duration)}時間)\")\n",
    "\n",
    "# 各月ごとの欠損率を確認\n",
    "print(\"\\n月ごとの欠損率:\")\n",
    "# 全期間の年月のリストを作成\n",
    "all_yearmonths = pd.Series(expected_dates).dt.to_period('M').unique()\n",
    "\n",
    "# 実際のデータの年月ごとのカウント\n",
    "if len(df.index) > 0:  # 実際のデータが存在する場合\n",
    "    actual_counts = df.groupby(df.index.to_period('M')).size()\n",
    "    \n",
    "    for ym in all_yearmonths:\n",
    "        # 各月の期待される時間数を計算\n",
    "        month_start = ym.start_time\n",
    "        month_end = ym.end_time\n",
    "        expected_hours = pd.date_range(start=max(month_start, expected_dates[0]), \n",
    "                                      end=min(month_end, expected_dates[-1]), \n",
    "                                      freq='H').size\n",
    "        \n",
    "        # 実際の時間数\n",
    "        actual_hours = actual_counts.get(ym, 0)\n",
    "        \n",
    "        # 欠損率を計算\n",
    "        missing_rate = (expected_hours - actual_hours) / expected_hours * 100 if expected_hours > 0 else 0\n",
    "        \n",
    "        # 10%以上欠損している月を強調表示\n",
    "        if missing_rate >= 10:\n",
    "            print(f\"{ym}: 期待={expected_hours}時間, 実際={actual_hours}時間, 欠損率={missing_rate:.2f}% ⚠️\")\n",
    "        else:\n",
    "            print(f\"{ym}: 期待={expected_hours}時間, 実際={actual_hours}時間, 欠損率={missing_rate:.2f}%\")"
   ]
  },
  {
   "cell_type": "code",
   "execution_count": 101,
   "metadata": {},
   "outputs": [
    {
     "data": {
      "text/plain": [
       "<Axes: >"
      ]
     },
     "execution_count": 101,
     "metadata": {},
     "output_type": "execute_result"
    },
    {
     "data": {
      "image/png": "[encoded data removed]",
      "text/plain": [
       "<Figure size 640x480 with 1 Axes>"
      ]
     },
     "metadata": {},
     "output_type": "display_data"
    }
   ],
   "source": [
    "df[\"天気\"].hist()"
   ]
  },
  {
   "cell_type": "code",
   "execution_count": null,
   "metadata": {},
   "outputs": [
    {
     "data": {
      "text/plain": [
       "天気\n",
       "2.0     21771\n",
       "4.0     15897\n",
       "8.0        12\n",
       "10.0     6011\n",
       "11.0       22\n",
       "12.0       33\n",
       "Name: count, dtype: int64"
      ]
     },
     "execution_count": 104,
     "metadata": {},
     "output_type": "execute_result"
    }
   ],
   "source": [
    "df['気温'].value_counts().sort_index()"
   ]
  },
  {
   "cell_type": "markdown",
   "metadata": {},
   "source": [
    "品質情報\n",
    "| 値 | 意味           | 解説 |\n",
    "|----|--------------|------------------------------------|\n",
    "| 0  | 統計しない   | 観測（統計）対象外の要素 |\n",
    "| 1  | 資料なし、未報告 | 欠測（統計値が得られない） |\n",
    "| 2  | 利用不適値   | 利用に適さない |\n",
    "| 3  | 疑問値       | 値が非常に疑わしい |\n",
    "| 4  | 資料不足値   | 統計を行うためのもとデータに一定以上の欠落がある |\n",
    "| 5  | 準正常値     | 値がやや疑わしい（統計を行うための、もとデータに若干の欠落がある） |\n",
    "| 8  | 正常値       | 品質に問題がない（統計を行うための、もとデータに欠落がない） |  \n",
    "\n",
    "現象なし情報  \n",
    "現象がなければ1"
   ]
  },
  {
   "cell_type": "markdown",
   "metadata": {},
   "source": [
    "| 項番 | 記号 | 天気 | 観測者による観測 | 自動観測 |\n",
    "|------|------|------|----------------|--------|\n",
    "| 1  | 快晴の記号 | 快晴 | ○ | － |\n",
    "| 2  | 晴の記号 | 晴 | ○ | ○ |\n",
    "| 3  | 薄曇の記号 | 薄曇 | ○ | － |\n",
    "| 4  | 曇の記号 | 曇 | ○ | ○ |\n",
    "| 5  | 煙霧の記号 | 煙霧 | ○ | ○ |\n",
    "| 6  | 砂じん嵐の記号 | 砂じん嵐 | ○ | － |\n",
    "| 7  | 高い地ふぶきの記号 | 高い地ふぶき | ○ | － |\n",
    "| 8  | 霧の記号 | 霧 | ○ | ○ |\n",
    "| 9  | 霧雨の記号 | 霧雨 | ○ | ○ |\n",
    "| 10 | しゅう雨の記号 | しゅう雨または止み間のある雨 | － | ○ |\n",
    "| 11 | 降水現象の記号 | 降水 | － | ○ |\n",
    "| 12 | 雨の記号 | 雨 | ○ | ○ |\n",
    "| 13 | みぞれの記号 | みぞれ | ○ | ○ |\n",
    "| 14 | 雪の記号 | 雪 | ○ | ○ |\n",
    "| 15 | 着氷性の雨の記号 | 着氷性の雨 | － | ○ |\n",
    "| 16 | 着氷性の霧雨の記号 | 着氷性の霧雨 | － | ○ |\n",
    "| 17 | 凍雨の記号 | 凍雨 | － | ○ |\n",
    "| 18 | 霧雪の記号 | 霧雪 | － | ○ |\n",
    "| 19 | しゅう雪の記号 | しゅう雪または止み間のある雪 | － | ○ |\n",
    "| 20 | あられの記号 | あられ | ○ | － |\n",
    "| 21 | ひょうの記号 | ひょう | ○ | ○ |\n",
    "| 22 | もやの記号 | もや | － | ○ |\n",
    "| 23 | 細氷の記号 | 細氷 | － | ○ |\n",
    "| 24 | 雷の記号 | 雷 | ○ | ○ |\n",
    "\n",
    "**注:** 観測者による観測で該当する天気が複数存在する場合は、項番の大きい方を優先する。"
   ]
  },
  {
   "cell_type": "markdown",
   "metadata": {},
   "source": []
  },
  {
   "cell_type": "code",
   "execution_count": null,
   "metadata": {},
   "outputs": [],
   "source": []
  },
  {
   "cell_type": "code",
   "execution_count": null,
   "metadata": {},
   "outputs": [],
   "source": []
  }
 ],
 "metadata": {
  "kernelspec": {
   "display_name": ".venv",
   "language": "python",
   "name": "python3"
  },
  "language_info": {
   "codemirror_mode": {
    "name": "ipython",
    "version": 3
   },
   "file_extension": ".py",
   "mimetype": "text/x-python",
   "name": "python",
   "nbconvert_exporter": "python",
   "pygments_lexer": "ipython3",
   "version": "3.12.8"
  }
 },
 "nbformat": 4,
 "nbformat_minor": 2
}
