{
 "cells": [
  {
   "cell_type": "code",
   "execution_count": 1,
   "metadata": {},
   "outputs": [],
   "source": [
    "import glob\n",
    "import os\n",
    "from pathlib import Path\n",
    "import pandas as pd\n",
    "\n",
    "def data_cleaning(path):\n",
    "    df = pd.read_csv(path,encoding=\"cp932\",header=2)\n",
    "    df.drop(columns=[\"気温(℃).1\",\"気温(℃).2\",\n",
    "                    \"降水量(mm).2\",\"降水量(mm).3\",\"降雪(cm).2\",\"降雪(cm).3\",\"積雪(cm).2\",\"積雪(cm).3\",\"日照時間(時間).2\",\"日照時間(時間).3\",\n",
    "                    \"風速(m/s).1\",\"風速(m/s).2\",\"風速(m/s).3\",\"風速(m/s).4\",\n",
    "                    \"露点温度(℃)\",\"露点温度(℃).1\",\"露点温度(℃).2\",\n",
    "                    \"蒸気圧(hPa)\",\"蒸気圧(hPa).1\",\"蒸気圧(hPa).2\",\n",
    "                    \"天気.1\",\"天気.2\",\"雲量(10分比)\",\"雲量(10分比).1\",\"雲量(10分比).2\",\"相対湿度(％).1\",\"相対湿度(％).2\",\n",
    "                    \"海面気圧(hPa)\",\"海面気圧(hPa).1\",\"海面気圧(hPa).2\",\n",
    "                    \"現地気圧(hPa).1\",\"現地気圧(hPa).2\",\"日射量(MJ/㎡)\",\"日射量(MJ/㎡).1\",\"日射量(MJ/㎡).2\"\n",
    "                    ],inplace=True)\n",
    "    df.rename(columns={\"年月日時\":\"datetime\",\"降水量(mm).1\":\"降水なし\",\"降雪(cm).1\":\"降雪なし\",\"積雪(cm).1\":\"積雪なし\",\"日照時間(時間).1\":\"日照なし\"},inplace=True)\n",
    "    df.drop(index=[0,1],inplace=True)\n",
    "    df[\"datetime\"] = pd.to_datetime(df[\"datetime\"])\n",
    "\n",
    "    return df\n",
    "\n",
    "csv_list = glob.glob(str(Path.cwd().parent / \"input\" / \"weather\") + \"/*.csv\")\n",
    "# リスト内包表記で一気にcleaningを掛け、結合、その後datetimeのダブりを削除\n",
    "df_tenki = pd.concat([data_cleaning(l) for l in csv_list]).drop_duplicates(subset='datetime')\n",
    "# datetimeを行に指定してsort\n",
    "df_tenki.set_index(\"datetime\",inplace=True)\n",
    "df_tenki.sort_index(inplace=True)\n",
    "df_tenki.to_pickle('../output/df_tenki.pkl.gz', compression='gzip') # 圧縮有り"
   ]
  },
  {
   "cell_type": "code",
   "execution_count": null,
   "metadata": {},
   "outputs": [],
   "source": [
    "df_tenki['weekday'] = df_tenki.index.day_name()  # または .dt.weekday でも可\n",
    "# 日本語の曜日表示にする場合\n",
    "weekday_mapping = {\n",
    "    'Monday': '月曜日',\n",
    "    'Tuesday': '火曜日',\n",
    "    'Wednesday': '水曜日',\n",
    "    'Thursday': '木曜日',\n",
    "    'Friday': '金曜日',\n",
    "    'Saturday': '土曜日',\n",
    "    'Sunday': '日曜日'\n",
    "}\n",
    "df_tenki[\"weekday\"] = df_tenki[\"weekday\"].map(weekday_mapping)\n",
    "# datetime列から日付部分だけを抽出して新しい列を作成\n",
    "df_tenki['date'] = df_tenki.index.date\n",
    "# 時間帯（4時間区切り）を作成\n",
    "df_tenki['time_slot'] = pd.to_datetime(df_tenki.index).hour // 4\n",
    "df_tenki['time_slot'] = df_tenki['time_slot'].map({\n",
    "    0: '00-04時',\n",
    "    1: '04-08時',\n",
    "    2: '08-12時',\n",
    "    3: '12-16時',\n",
    "    4: '16-20時',\n",
    "    5: '20-24時'\n",
    "})"
   ]
  },
  {
   "cell_type": "code",
   "execution_count": null,
   "metadata": {},
   "outputs": [
    {
     "data": {
      "text/plain": [
       "datetime\n",
       "2019-01-01 01:00:00    0.0\n",
       "2019-01-01 02:00:00    0.0\n",
       "2019-01-01 03:00:00    0.0\n",
       "2019-01-01 04:00:00    0.0\n",
       "2019-01-01 05:00:00    0.0\n",
       "                      ... \n",
       "2023-12-31 20:00:00    0.0\n",
       "2023-12-31 21:00:00    0.0\n",
       "2023-12-31 22:00:00    0.0\n",
       "2023-12-31 23:00:00    0.0\n",
       "2024-01-01 00:00:00    0.0\n",
       "Name: 日照時間(時間), Length: 43824, dtype: float64"
      ]
     },
     "execution_count": 24,
     "metadata": {},
     "output_type": "execute_result"
    }
   ],
   "source": [
    "df_tenki[\"\"]"
   ]
  },
  {
   "cell_type": "code",
   "execution_count": 25,
   "metadata": {},
   "outputs": [
    {
     "data": {
      "text/plain": [
       "Index(['気温(℃)', '降水量(mm)', '降水なし', '降雪(cm)', '降雪なし', '積雪(cm)', '積雪なし',\n",
       "       '日照時間(時間)', '日照なし', '風速(m/s)', '相対湿度(％)', '天気', '現地気圧(hPa)', 'date',\n",
       "       'weekday', 'time_slot'],\n",
       "      dtype='object')"
      ]
     },
     "execution_count": 25,
     "metadata": {},
     "output_type": "execute_result"
    }
   ],
   "source": [
    "df_tenki.columns\n"
   ]
  },
  {
   "cell_type": "code",
   "execution_count": null,
   "metadata": {},
   "outputs": [],
   "source": [
    "# 日付ごとにグループ化して気温の統計を計算\n",
    "result_tenki = df_tenki.groupby('date')['気温(℃)'].agg(['mean', 'max', 'min'])\n",
    "# 列名を日本語に変更\n",
    "result_tenki.columns = ['平均気温', '最高気温', '最低気温']"
   ]
  },
  {
   "cell_type": "code",
   "execution_count": 26,
   "metadata": {},
   "outputs": [
    {
     "data": {
      "text/plain": [
       "array([ 2., 10.,  4., 11., nan,  8., 12.])"
      ]
     },
     "execution_count": 26,
     "metadata": {},
     "output_type": "execute_result"
    }
   ],
   "source": [
    "df_tenki[\"天気\"].unique()"
   ]
  },
  {
   "cell_type": "code",
   "execution_count": 4,
   "metadata": {},
   "outputs": [
    {
     "name": "stdout",
     "output_type": "stream",
     "text": [
      "欠損チェック\n"
     ]
    },
    {
     "name": "stderr",
     "output_type": "stream",
     "text": [
      "/var/folders/ck/8bxh7p5d465fgrv1k4m4rfc40000gn/T/ipykernel_5886/3181086215.py:3: FutureWarning: 'H' is deprecated and will be removed in a future version, please use 'h' instead.\n",
      "  expected_dates = pd.date_range(\n"
     ]
    },
    {
     "ename": "NameError",
     "evalue": "name 'df' is not defined",
     "output_type": "error",
     "traceback": [
      "\u001b[0;31m---------------------------------------------------------------------------\u001b[0m",
      "\u001b[0;31mNameError\u001b[0m                                 Traceback (most recent call last)",
      "Cell \u001b[0;32mIn[4], line 12\u001b[0m\n\u001b[1;32m      9\u001b[0m expected_df\u001b[38;5;241m.\u001b[39mindex\u001b[38;5;241m.\u001b[39mname \u001b[38;5;241m=\u001b[39m \u001b[38;5;124m'\u001b[39m\u001b[38;5;124mdatetime\u001b[39m\u001b[38;5;124m'\u001b[39m\n\u001b[1;32m     11\u001b[0m \u001b[38;5;66;03m# 実際のデータフレームと期待されるDatetimeIndexの差分をチェック\u001b[39;00m\n\u001b[0;32m---> 12\u001b[0m missing_dates \u001b[38;5;241m=\u001b[39m expected_df\u001b[38;5;241m.\u001b[39mindex\u001b[38;5;241m.\u001b[39mdifference(\u001b[43mdf\u001b[49m\u001b[38;5;241m.\u001b[39mindex)\n\u001b[1;32m     14\u001b[0m \u001b[38;5;66;03m# 結果の表示\u001b[39;00m\n\u001b[1;32m     15\u001b[0m \u001b[38;5;28;01mif\u001b[39;00m \u001b[38;5;28mlen\u001b[39m(missing_dates) \u001b[38;5;241m==\u001b[39m \u001b[38;5;241m0\u001b[39m:\n",
      "\u001b[0;31mNameError\u001b[0m: name 'df' is not defined"
     ]
    }
   ],
   "source": [
    "print(\"欠損チェック\")\n",
    "# 確認したい期間の完全なDatetimeIndexを作成（1時間おき）\n",
    "expected_dates = pd.date_range(\n",
    "    start='2019-01-01 01:00:00',\n",
    "    end='2024-01-01 00:00:00',\n",
    "    freq='H'\n",
    ")\n",
    "expected_df = pd.DataFrame(index=expected_dates)\n",
    "expected_df.index.name = 'datetime'\n",
    "\n",
    "# 実際のデータフレームと期待されるDatetimeIndexの差分をチェック\n",
    "missing_dates = expected_df.index.difference(df.index)\n",
    "\n",
    "# 結果の表示\n",
    "if len(missing_dates) == 0:\n",
    "    print(\"すべてのデータが揃っています。欠損はありません。\")\n",
    "    print(\"保存開始\")\n",
    "    df.to_csv(\"../input/tenki_2019-2023.csv\")\n",
    "\n",
    "else:\n",
    "    print(f\"欠損している日時が {len(missing_dates)} 件あります。\")\n",
    "    \n",
    "    # 最初の10件だけ表示\n",
    "    if len(missing_dates) > 10:\n",
    "        print(\"最初の10件の欠損:\")\n",
    "        for i, date in enumerate(missing_dates[:10]):\n",
    "            print(f\"{i+1}: {date}\")\n",
    "        print(f\"... 他 {len(missing_dates) - 10} 件\")\n",
    "    else:\n",
    "        print(\"欠損している日時:\")\n",
    "        for i, date in enumerate(missing_dates):\n",
    "            print(f\"{i+1}: {date}\")\n",
    "    \n",
    "    # 連続した欠損の分析\n",
    "    print(\"\\n連続した欠損の分析:\")\n",
    "    if len(missing_dates) > 0:\n",
    "        # 連続した欠損期間を見つける\n",
    "        missing_dates_list = missing_dates.tolist()\n",
    "        gaps = []\n",
    "        gap_start = missing_dates_list[0]\n",
    "        \n",
    "        for i in range(1, len(missing_dates_list)):\n",
    "            if missing_dates_list[i] - missing_dates_list[i-1] != pd.Timedelta(hours=1):\n",
    "                gaps.append((gap_start, missing_dates_list[i-1]))\n",
    "                gap_start = missing_dates_list[i]\n",
    "        \n",
    "        # 最後のギャップを追加\n",
    "        gaps.append((gap_start, missing_dates_list[-1]))\n",
    "        \n",
    "        # 連続欠損の表示\n",
    "        for i, (start, end) in enumerate(gaps):\n",
    "            duration = (end - start).total_seconds() / 3600 + 1  # 時間単位\n",
    "            print(f\"連続欠損 {i+1}: {start} から {end} まで ({int(duration)}時間)\")\n",
    "            \n",
    "        # 最長の欠損期間\n",
    "        longest_gap = max(gaps, key=lambda x: (x[1] - x[0]).total_seconds())\n",
    "        duration = (longest_gap[1] - longest_gap[0]).total_seconds() / 3600 + 1  # 時間単位\n",
    "        print(f\"\\n最長の連続欠損: {longest_gap[0]} から {longest_gap[1]} まで ({int(duration)}時間)\")\n",
    "\n",
    "# 各月ごとの欠損率を確認\n",
    "print(\"\\n月ごとの欠損率:\")\n",
    "# 全期間の年月のリストを作成\n",
    "all_yearmonths = pd.Series(expected_dates).dt.to_period('M').unique()\n",
    "\n",
    "# 実際のデータの年月ごとのカウント\n",
    "if len(df.index) > 0:  # 実際のデータが存在する場合\n",
    "    actual_counts = df.groupby(df.index.to_period('M')).size()\n",
    "    \n",
    "    for ym in all_yearmonths:\n",
    "        # 各月の期待される時間数を計算\n",
    "        month_start = ym.start_time\n",
    "        month_end = ym.end_time\n",
    "        expected_hours = pd.date_range(start=max(month_start, expected_dates[0]), \n",
    "                                      end=min(month_end, expected_dates[-1]), \n",
    "                                      freq='H').size\n",
    "        \n",
    "        # 実際の時間数\n",
    "        actual_hours = actual_counts.get(ym, 0)\n",
    "        \n",
    "        # 欠損率を計算\n",
    "        missing_rate = (expected_hours - actual_hours) / expected_hours * 100 if expected_hours > 0 else 0\n",
    "        \n",
    "        # 10%以上欠損している月を強調表示\n",
    "        if missing_rate >= 10:\n",
    "            print(f\"{ym}: 期待={expected_hours}時間, 実際={actual_hours}時間, 欠損率={missing_rate:.2f}% ⚠️\")\n",
    "        else:\n",
    "            print(f\"{ym}: 期待={expected_hours}時間, 実際={actual_hours}時間, 欠損率={missing_rate:.2f}%\")"
   ]
  },
  {
   "cell_type": "code",
   "execution_count": 101,
   "metadata": {},
   "outputs": [
    {
     "data": {
      "text/plain": [
       "<Axes: >"
      ]
     },
     "execution_count": 101,
     "metadata": {},
     "output_type": "execute_result"
    },
    {
     "data": {
      "image/png": "[encoded data removed]",
      "text/plain": [
       "<Figure size 640x480 with 1 Axes>"
      ]
     },
     "metadata": {},
     "output_type": "display_data"
    }
   ],
   "source": [
    "df[\"天気\"].hist()"
   ]
  },
  {
   "cell_type": "code",
   "execution_count": null,
   "metadata": {},
   "outputs": [
    {
     "data": {
      "text/plain": [
       "天気\n",
       "2.0     21771\n",
       "4.0     15897\n",
       "8.0        12\n",
       "10.0     6011\n",
       "11.0       22\n",
       "12.0       33\n",
       "Name: count, dtype: int64"
      ]
     },
     "execution_count": 104,
     "metadata": {},
     "output_type": "execute_result"
    }
   ],
   "source": [
    "df['気温'].value_counts().sort_index()"
   ]
  },
  {
   "cell_type": "markdown",
   "metadata": {},
   "source": [
    "品質情報\n",
    "| 値 | 意味           | 解説 |\n",
    "|----|--------------|------------------------------------|\n",
    "| 0  | 統計しない   | 観測（統計）対象外の要素 |\n",
    "| 1  | 資料なし、未報告 | 欠測（統計値が得られない） |\n",
    "| 2  | 利用不適値   | 利用に適さない |\n",
    "| 3  | 疑問値       | 値が非常に疑わしい |\n",
    "| 4  | 資料不足値   | 統計を行うためのもとデータに一定以上の欠落がある |\n",
    "| 5  | 準正常値     | 値がやや疑わしい（統計を行うための、もとデータに若干の欠落がある） |\n",
    "| 8  | 正常値       | 品質に問題がない（統計を行うための、もとデータに欠落がない） |  \n",
    "\n",
    "現象なし情報  \n",
    "現象がなければ1"
   ]
  },
  {
   "cell_type": "markdown",
   "metadata": {},
   "source": [
    "| 項番 | 記号 | 天気 | 観測者による観測 | 自動観測 |\n",
    "|------|------|------|----------------|--------|\n",
    "| 1  | 快晴の記号 | 快晴 | ○ | － |\n",
    "| 2  | 晴の記号 | 晴 | ○ | ○ |\n",
    "| 3  | 薄曇の記号 | 薄曇 | ○ | － |\n",
    "| 4  | 曇の記号 | 曇 | ○ | ○ |\n",
    "| 5  | 煙霧の記号 | 煙霧 | ○ | ○ |\n",
    "| 6  | 砂じん嵐の記号 | 砂じん嵐 | ○ | － |\n",
    "| 7  | 高い地ふぶきの記号 | 高い地ふぶき | ○ | － |\n",
    "| 8  | 霧の記号 | 霧 | ○ | ○ |\n",
    "| 9  | 霧雨の記号 | 霧雨 | ○ | ○ |\n",
    "| 10 | しゅう雨の記号 | しゅう雨または止み間のある雨 | － | ○ |\n",
    "| 11 | 降水現象の記号 | 降水 | － | ○ |\n",
    "| 12 | 雨の記号 | 雨 | ○ | ○ |\n",
    "| 13 | みぞれの記号 | みぞれ | ○ | ○ |\n",
    "| 14 | 雪の記号 | 雪 | ○ | ○ |\n",
    "| 15 | 着氷性の雨の記号 | 着氷性の雨 | － | ○ |\n",
    "| 16 | 着氷性の霧雨の記号 | 着氷性の霧雨 | － | ○ |\n",
    "| 17 | 凍雨の記号 | 凍雨 | － | ○ |\n",
    "| 18 | 霧雪の記号 | 霧雪 | － | ○ |\n",
    "| 19 | しゅう雪の記号 | しゅう雪または止み間のある雪 | － | ○ |\n",
    "| 20 | あられの記号 | あられ | ○ | － |\n",
    "| 21 | ひょうの記号 | ひょう | ○ | ○ |\n",
    "| 22 | もやの記号 | もや | － | ○ |\n",
    "| 23 | 細氷の記号 | 細氷 | － | ○ |\n",
    "| 24 | 雷の記号 | 雷 | ○ | ○ |\n",
    "\n",
    "**注:** 観測者による観測で該当する天気が複数存在する場合は、項番の大きい方を優先する。"
   ]
  },
  {
   "cell_type": "markdown",
   "metadata": {},
   "source": []
  },
  {
   "cell_type": "code",
   "execution_count": null,
   "metadata": {},
   "outputs": [],
   "source": []
  },
  {
   "cell_type": "code",
   "execution_count": null,
   "metadata": {},
   "outputs": [],
   "source": []
  }
 ],
 "metadata": {
  "kernelspec": {
   "display_name": ".venv",
   "language": "python",
   "name": "python3"
  },
  "language_info": {
   "codemirror_mode": {
    "name": "ipython",
    "version": 3
   },
   "file_extension": ".py",
   "mimetype": "text/x-python",
   "name": "python",
   "nbconvert_exporter": "python",
   "pygments_lexer": "ipython3",
   "version": "3.12.8"
  }
 },
 "nbformat": 4,
 "nbformat_minor": 2
}
